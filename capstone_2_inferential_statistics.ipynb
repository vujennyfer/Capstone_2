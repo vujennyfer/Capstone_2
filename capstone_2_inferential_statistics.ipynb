{
 "cells": [
  {
   "cell_type": "markdown",
   "metadata": {},
   "source": [
    "# Inferential Statistics:\n",
    "\n",
    "Are there variables that are particularly significant in terms of explaining the answer to your project question?\n",
    "\n",
    "Variables that are significant are crime subcategories, area and neighborhood, and report sums. \n",
    "\n",
    "Are there strong correlations between pairs of independent variables or between an independent and a dependent variable?\n",
    "\n",
    "We predict that there are strong correlations between sum of report numbers and area/neighborhood. We can dive into whether or \n",
    "not these variables are correlated. \n",
    "\n",
    "Null hypothesis: The sum of report numbers between different neighborhoods are the same.\n",
    "\n",
    "Alternative hypothesis: The sum of report numbers between different neighborhoods are different. "
   ]
  },
  {
   "cell_type": "code",
   "execution_count": 1,
   "metadata": {},
   "outputs": [],
   "source": [
    "import plotly.plotly as py\n",
    "import plotly.graph_objs as go\n",
    "from plotly.tools import FigureFactory as FF\n",
    "\n",
    "import numpy as np\n",
    "import pandas as pd\n",
    "import scipy\n",
    "from pandas import DataFrame\n",
    "\n",
    "import statsmodels\n",
    "import statsmodels.api as sm\n",
    "from statsmodels.formula.api import ols"
   ]
  },
  {
   "cell_type": "code",
   "execution_count": 2,
   "metadata": {},
   "outputs": [
    {
     "data": {
      "text/html": [
       "<div>\n",
       "<style scoped>\n",
       "    .dataframe tbody tr th:only-of-type {\n",
       "        vertical-align: middle;\n",
       "    }\n",
       "\n",
       "    .dataframe tbody tr th {\n",
       "        vertical-align: top;\n",
       "    }\n",
       "\n",
       "    .dataframe thead th {\n",
       "        text-align: right;\n",
       "    }\n",
       "</style>\n",
       "<table border=\"1\" class=\"dataframe\">\n",
       "  <thead>\n",
       "    <tr style=\"text-align: right;\">\n",
       "      <th></th>\n",
       "      <th>Report Number</th>\n",
       "      <th>Occurred Date</th>\n",
       "      <th>Occurred Time</th>\n",
       "      <th>Reported Date</th>\n",
       "      <th>Reported Time</th>\n",
       "      <th>Crime Subcategory</th>\n",
       "      <th>Primary Offense Description</th>\n",
       "      <th>Precinct</th>\n",
       "      <th>Sector</th>\n",
       "      <th>Beat</th>\n",
       "      <th>Neighborhood</th>\n",
       "    </tr>\n",
       "  </thead>\n",
       "  <tbody>\n",
       "    <tr>\n",
       "      <th>0</th>\n",
       "      <td>1.975000e+12</td>\n",
       "      <td>12/16/1975</td>\n",
       "      <td>900.0</td>\n",
       "      <td>12/16/1975</td>\n",
       "      <td>1500.0</td>\n",
       "      <td>BURGLARY-RESIDENTIAL</td>\n",
       "      <td>BURGLARY-FORCE-RES</td>\n",
       "      <td>SOUTH</td>\n",
       "      <td>R</td>\n",
       "      <td>R3</td>\n",
       "      <td>LAKEWOOD/SEWARD PARK</td>\n",
       "    </tr>\n",
       "    <tr>\n",
       "      <th>1</th>\n",
       "      <td>1.976000e+12</td>\n",
       "      <td>1/1/1976</td>\n",
       "      <td>1.0</td>\n",
       "      <td>1/31/1976</td>\n",
       "      <td>2359.0</td>\n",
       "      <td>SEX OFFENSE-OTHER</td>\n",
       "      <td>SEXOFF-INDECENT LIBERTIES</td>\n",
       "      <td>UNKNOWN</td>\n",
       "      <td>NaN</td>\n",
       "      <td>NaN</td>\n",
       "      <td>UNKNOWN</td>\n",
       "    </tr>\n",
       "    <tr>\n",
       "      <th>2</th>\n",
       "      <td>1.979000e+12</td>\n",
       "      <td>1/28/1979</td>\n",
       "      <td>1600.0</td>\n",
       "      <td>2/9/1979</td>\n",
       "      <td>1430.0</td>\n",
       "      <td>CAR PROWL</td>\n",
       "      <td>THEFT-CARPROWL</td>\n",
       "      <td>EAST</td>\n",
       "      <td>G</td>\n",
       "      <td>G2</td>\n",
       "      <td>CENTRAL AREA/SQUIRE PARK</td>\n",
       "    </tr>\n",
       "    <tr>\n",
       "      <th>3</th>\n",
       "      <td>1.981000e+13</td>\n",
       "      <td>8/22/1981</td>\n",
       "      <td>2029.0</td>\n",
       "      <td>8/22/1981</td>\n",
       "      <td>2030.0</td>\n",
       "      <td>HOMICIDE</td>\n",
       "      <td>HOMICIDE-PREMEDITATED-WEAPON</td>\n",
       "      <td>SOUTH</td>\n",
       "      <td>S</td>\n",
       "      <td>S2</td>\n",
       "      <td>BRIGHTON/DUNLAP</td>\n",
       "    </tr>\n",
       "    <tr>\n",
       "      <th>4</th>\n",
       "      <td>1.981000e+12</td>\n",
       "      <td>2/14/1981</td>\n",
       "      <td>2000.0</td>\n",
       "      <td>2/15/1981</td>\n",
       "      <td>435.0</td>\n",
       "      <td>BURGLARY-RESIDENTIAL</td>\n",
       "      <td>BURGLARY-FORCE-RES</td>\n",
       "      <td>SOUTHWEST</td>\n",
       "      <td>W</td>\n",
       "      <td>W3</td>\n",
       "      <td>ROXHILL/WESTWOOD/ARBOR HEIGHTS</td>\n",
       "    </tr>\n",
       "  </tbody>\n",
       "</table>\n",
       "</div>"
      ],
      "text/plain": [
       "   Report Number Occurred Date  Occurred Time Reported Date  Reported Time  \\\n",
       "0   1.975000e+12    12/16/1975          900.0    12/16/1975         1500.0   \n",
       "1   1.976000e+12      1/1/1976            1.0     1/31/1976         2359.0   \n",
       "2   1.979000e+12     1/28/1979         1600.0      2/9/1979         1430.0   \n",
       "3   1.981000e+13     8/22/1981         2029.0     8/22/1981         2030.0   \n",
       "4   1.981000e+12     2/14/1981         2000.0     2/15/1981          435.0   \n",
       "\n",
       "      Crime Subcategory   Primary Offense Description   Precinct Sector Beat  \\\n",
       "0  BURGLARY-RESIDENTIAL            BURGLARY-FORCE-RES      SOUTH      R   R3   \n",
       "1     SEX OFFENSE-OTHER     SEXOFF-INDECENT LIBERTIES    UNKNOWN    NaN  NaN   \n",
       "2             CAR PROWL                THEFT-CARPROWL       EAST      G   G2   \n",
       "3              HOMICIDE  HOMICIDE-PREMEDITATED-WEAPON      SOUTH      S   S2   \n",
       "4  BURGLARY-RESIDENTIAL            BURGLARY-FORCE-RES  SOUTHWEST      W   W3   \n",
       "\n",
       "                     Neighborhood  \n",
       "0            LAKEWOOD/SEWARD PARK  \n",
       "1                         UNKNOWN  \n",
       "2        CENTRAL AREA/SQUIRE PARK  \n",
       "3                 BRIGHTON/DUNLAP  \n",
       "4  ROXHILL/WESTWOOD/ARBOR HEIGHTS  "
      ]
     },
     "execution_count": 2,
     "metadata": {},
     "output_type": "execute_result"
    }
   ],
   "source": [
    "# Importing the dataframe (same one used in Tableau)\n",
    "df = pd.read_csv('C:/Users/jennywhojennyvu/Desktop/Capstone_2/Crime_Data.csv')\n",
    "df.head()"
   ]
  },
  {
   "cell_type": "code",
   "execution_count": 3,
   "metadata": {},
   "outputs": [],
   "source": [
    "df = df[['Report Number','Occurred Date','Occurred Time','Reported Date','Reported Time', 'Crime Subcategory', 'Primary Offense Description', 'Precinct', 'Sector', 'Beat', 'Neighborhood']]"
   ]
  },
  {
   "cell_type": "code",
   "execution_count": 4,
   "metadata": {},
   "outputs": [],
   "source": [
    "# Changing column names\n",
    "df.columns = ['Report_Number', 'Occurred_Date', 'Occurred_Time', 'Reported_Date', 'Reported_Time', 'Crime_Subcategory', 'Primary_Offense_Description', 'Precinct', 'Sector', 'Beat', 'Neighborhood']"
   ]
  },
  {
   "cell_type": "code",
   "execution_count": 18,
   "metadata": {},
   "outputs": [
    {
     "data": {
      "text/html": [
       "<div>\n",
       "<style scoped>\n",
       "    .dataframe tbody tr th:only-of-type {\n",
       "        vertical-align: middle;\n",
       "    }\n",
       "\n",
       "    .dataframe tbody tr th {\n",
       "        vertical-align: top;\n",
       "    }\n",
       "\n",
       "    .dataframe thead th {\n",
       "        text-align: right;\n",
       "    }\n",
       "</style>\n",
       "<table border=\"1\" class=\"dataframe\">\n",
       "  <thead>\n",
       "    <tr style=\"text-align: right;\">\n",
       "      <th></th>\n",
       "      <th>Report_Year</th>\n",
       "      <th>Census_Tract_1990</th>\n",
       "      <th>Crime_Type</th>\n",
       "      <th>Report_Year_Total</th>\n",
       "    </tr>\n",
       "  </thead>\n",
       "  <tbody>\n",
       "    <tr>\n",
       "      <th>0</th>\n",
       "      <td>1996</td>\n",
       "      <td>1.0</td>\n",
       "      <td>Aggravated Assault</td>\n",
       "      <td>11</td>\n",
       "    </tr>\n",
       "    <tr>\n",
       "      <th>1</th>\n",
       "      <td>1996</td>\n",
       "      <td>1.0</td>\n",
       "      <td>Homicide</td>\n",
       "      <td>0</td>\n",
       "    </tr>\n",
       "    <tr>\n",
       "      <th>2</th>\n",
       "      <td>1996</td>\n",
       "      <td>1.0</td>\n",
       "      <td>NonResidential Burglary</td>\n",
       "      <td>41</td>\n",
       "    </tr>\n",
       "    <tr>\n",
       "      <th>3</th>\n",
       "      <td>1996</td>\n",
       "      <td>1.0</td>\n",
       "      <td>Property Crimes Total</td>\n",
       "      <td>430</td>\n",
       "    </tr>\n",
       "    <tr>\n",
       "      <th>4</th>\n",
       "      <td>1996</td>\n",
       "      <td>1.0</td>\n",
       "      <td>Rape</td>\n",
       "      <td>2</td>\n",
       "    </tr>\n",
       "  </tbody>\n",
       "</table>\n",
       "</div>"
      ],
      "text/plain": [
       "   Report_Year  Census_Tract_1990               Crime_Type  Report_Year_Total\n",
       "0         1996                1.0       Aggravated Assault                 11\n",
       "1         1996                1.0                 Homicide                  0\n",
       "2         1996                1.0  NonResidential Burglary                 41\n",
       "3         1996                1.0    Property Crimes Total                430\n",
       "4         1996                1.0                     Rape                  2"
      ]
     },
     "execution_count": 18,
     "metadata": {},
     "output_type": "execute_result"
    }
   ],
   "source": [
    "# Importing the dataframe (for ANOVA)\n",
    "year = pd.read_csv('C:/Users/jennywhojennyvu/Desktop/Capstone_2/seattle-crime-stats-by-1990-census-tract-1996-2007.csv')\n",
    "year.head()"
   ]
  },
  {
   "cell_type": "code",
   "execution_count": 19,
   "metadata": {},
   "outputs": [
    {
     "data": {
      "text/plain": [
       "array([1996, 1996, 1996, ..., 2007, 2007, 2007], dtype=int64)"
      ]
     },
     "execution_count": 19,
     "metadata": {},
     "output_type": "execute_result"
    }
   ],
   "source": [
    "year.Report_Year.values"
   ]
  },
  {
   "cell_type": "code",
   "execution_count": 20,
   "metadata": {},
   "outputs": [],
   "source": [
    "# add column for violent vs. nonviolent and compare to neighborhoods, and then run ANOVA \n",
    "# look at crime subcategory, column.isin \n",
    "# datetime, day of week, month, year  "
   ]
  },
  {
   "cell_type": "code",
   "execution_count": 21,
   "metadata": {},
   "outputs": [],
   "source": [
    "# How many crime reports are in each neighborhood?\n",
    "#df['Neighborhood'].value_counts()"
   ]
  },
  {
   "cell_type": "code",
   "execution_count": 22,
   "metadata": {},
   "outputs": [
    {
     "data": {
      "text/plain": [
       "Report_Year          14268\n",
       "Census_Tract_1990    14236\n",
       "Crime_Type           14268\n",
       "Report_Year_Total    14268\n",
       "dtype: int64"
      ]
     },
     "execution_count": 22,
     "metadata": {},
     "output_type": "execute_result"
    }
   ],
   "source": [
    "year.count()"
   ]
  },
  {
   "cell_type": "markdown",
   "metadata": {},
   "source": [
    "# One-Way ANOVA\n",
    "\n",
    "We will be taking a look at Analysis of Variance Test or ANOVA. We will be conducting the One-Way ANOVA to compare if the crime reports in different years are equal. \n",
    "Whereas the Two-Way ANOVA compares two or more variables and how they are related to the variable in question.\n",
    "\n",
    "Null hypothesis: The crime reports between different years are the same.\n",
    "\n",
    "Alternative hypothesis: The crime reports between different years are different.\n"
   ]
  },
  {
   "cell_type": "code",
   "execution_count": 23,
   "metadata": {},
   "outputs": [],
   "source": [
    "m = ols('Report_Year_Total ~ Report_Year',year).fit()"
   ]
  },
  {
   "cell_type": "code",
   "execution_count": 24,
   "metadata": {},
   "outputs": [
    {
     "name": "stdout",
     "output_type": "stream",
     "text": [
      "                            OLS Regression Results                            \n",
      "==============================================================================\n",
      "Dep. Variable:      Report_Year_Total   R-squared:                       0.005\n",
      "Model:                            OLS   Adj. R-squared:                  0.004\n",
      "Method:                 Least Squares   F-statistic:                     64.73\n",
      "Date:                Wed, 18 Sep 2019   Prob (F-statistic):           9.29e-16\n",
      "Time:                        10:19:52   Log-Likelihood:                -93838.\n",
      "No. Observations:               14268   AIC:                         1.877e+05\n",
      "Df Residuals:                   14266   BIC:                         1.877e+05\n",
      "Df Model:                           1                                         \n",
      "Covariance Type:            nonrobust                                         \n",
      "===============================================================================\n",
      "                  coef    std err          t      P>|t|      [0.025      0.975]\n",
      "-------------------------------------------------------------------------------\n",
      "Intercept    7005.6035    861.443      8.132      0.000    5317.062    8694.145\n",
      "Report_Year    -3.4629      0.430     -8.045      0.000      -4.307      -2.619\n",
      "==============================================================================\n",
      "Omnibus:                    19685.717   Durbin-Watson:                   2.061\n",
      "Prob(Omnibus):                  0.000   Jarque-Bera (JB):          8102405.724\n",
      "Skew:                           7.876   Prob(JB):                         0.00\n",
      "Kurtosis:                     118.675   Cond. No.                     1.18e+06\n",
      "==============================================================================\n",
      "\n",
      "Warnings:\n",
      "[1] Standard Errors assume that the covariance matrix of the errors is correctly specified.\n",
      "[2] The condition number is large, 1.18e+06. This might indicate that there are\n",
      "strong multicollinearity or other numerical problems.\n"
     ]
    }
   ],
   "source": [
    "print(m.summary())"
   ]
  }
 ],
 "metadata": {
  "kernelspec": {
   "display_name": "Python 3",
   "language": "python",
   "name": "python3"
  },
  "language_info": {
   "codemirror_mode": {
    "name": "ipython",
    "version": 3
   },
   "file_extension": ".py",
   "mimetype": "text/x-python",
   "name": "python",
   "nbconvert_exporter": "python",
   "pygments_lexer": "ipython3",
   "version": "3.6.5"
  }
 },
 "nbformat": 4,
 "nbformat_minor": 2
}
